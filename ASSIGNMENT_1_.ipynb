{
  "nbformat": 4,
  "nbformat_minor": 0,
  "metadata": {
    "colab": {
      "provenance": []
    },
    "kernelspec": {
      "name": "python3",
      "display_name": "Python 3"
    },
    "language_info": {
      "name": "python"
    }
  },
  "cells": [
    {
      "cell_type": "code",
      "execution_count": null,
      "metadata": {
        "id": "CBRBvhUkvk9X"
      },
      "outputs": [],
      "source": []
    },
    {
      "cell_type": "code",
      "source": [
        "a=int(input('first no:'))\n",
        "b=int(input('second no:'))\n",
        "s=a+b\n",
        "print(s)"
      ],
      "metadata": {
        "colab": {
          "base_uri": "https://localhost:8080/"
        },
        "id": "831y5o1xwsbq",
        "outputId": "4dcab107-de9f-40f4-be27-e15c0170718a"
      },
      "execution_count": 1,
      "outputs": [
        {
          "output_type": "stream",
          "name": "stdout",
          "text": [
            "first no:5\n",
            "second no:2\n",
            "7\n"
          ]
        }
      ]
    },
    {
      "cell_type": "markdown",
      "source": [],
      "metadata": {
        "id": "WQC3tNuivruv"
      }
    },
    {
      "cell_type": "code",
      "source": [
        "a=int(input('first no:'))\n",
        "b=int(input('second no:'))\n",
        "s=a*b\n",
        "print(s)"
      ],
      "metadata": {
        "colab": {
          "base_uri": "https://localhost:8080/"
        },
        "id": "S3kpyvFFxHcy",
        "outputId": "b846e9c7-fb51-40e8-92fb-6ad1c9aed753"
      },
      "execution_count": 2,
      "outputs": [
        {
          "output_type": "stream",
          "name": "stdout",
          "text": [
            "first no:5\n",
            "second no:2\n",
            "10\n"
          ]
        }
      ]
    },
    {
      "cell_type": "code",
      "source": [
        "a=int(input('first no:'))\n",
        "b=int(input('second no:'))\n",
        "s=a/b\n",
        "r=a%b\n",
        "print(s, r)"
      ],
      "metadata": {
        "colab": {
          "base_uri": "https://localhost:8080/"
        },
        "id": "FQvNo5fdxjsQ",
        "outputId": "d1c8c84b-1911-4495-cbfa-56151f31a046"
      },
      "execution_count": 5,
      "outputs": [
        {
          "output_type": "stream",
          "name": "stdout",
          "text": [
            "first no:5\n",
            "second no:2\n",
            "2.5 1\n"
          ]
        }
      ]
    },
    {
      "cell_type": "code",
      "source": [],
      "metadata": {
        "id": "EklFy5ezxcLy"
      },
      "execution_count": null,
      "outputs": []
    },
    {
      "cell_type": "code",
      "source": [
        "s=\"python\"\n",
        "len(s)"
      ],
      "metadata": {
        "colab": {
          "base_uri": "https://localhost:8080/"
        },
        "id": "2sYI2Eq4x5Kx",
        "outputId": "c405d5fe-ed06-484c-e6bb-8d45fea91d60"
      },
      "execution_count": 6,
      "outputs": [
        {
          "output_type": "execute_result",
          "data": {
            "text/plain": [
              "6"
            ]
          },
          "metadata": {},
          "execution_count": 6
        }
      ]
    },
    {
      "cell_type": "code",
      "source": [
        "a=input('enter the string')\n",
        "c=a.count(\"a\")\n",
        "print(c)"
      ],
      "metadata": {
        "colab": {
          "base_uri": "https://localhost:8080/"
        },
        "id": "KX_PuQEPx97Y",
        "outputId": "fe8fedb0-5ef8-4851-d26f-a514b6dfffa7"
      },
      "execution_count": 9,
      "outputs": [
        {
          "output_type": "stream",
          "name": "stdout",
          "text": [
            "enter the stringsouparnika\n",
            "2\n"
          ]
        }
      ]
    },
    {
      "cell_type": "code",
      "source": [],
      "metadata": {
        "id": "ibBZIFHTyK2m"
      },
      "execution_count": 9,
      "outputs": []
    },
    {
      "cell_type": "code",
      "source": [
        "a=input('enter the string')\n",
        "u=a.upper()\n",
        "print(u)"
      ],
      "metadata": {
        "colab": {
          "base_uri": "https://localhost:8080/"
        },
        "id": "St3bkmgdypJG",
        "outputId": "2b315298-f9fe-4191-a33b-919d4b60187f"
      },
      "execution_count": 10,
      "outputs": [
        {
          "output_type": "stream",
          "name": "stdout",
          "text": [
            "enter the stringsouparnika\n",
            "SOUPARNIKA\n"
          ]
        }
      ]
    },
    {
      "cell_type": "code",
      "source": [
        "a=input('enter the string')\n",
        "l=a.lower()\n",
        "print(l)"
      ],
      "metadata": {
        "colab": {
          "base_uri": "https://localhost:8080/"
        },
        "id": "sZFD1BCuy3KP",
        "outputId": "21c588ba-266b-4b9e-8184-c43c0b9867d8"
      },
      "execution_count": 11,
      "outputs": [
        {
          "output_type": "stream",
          "name": "stdout",
          "text": [
            "enter the stringSOUPARNIKA\n",
            "souparnika\n"
          ]
        }
      ]
    },
    {
      "cell_type": "code",
      "source": [],
      "metadata": {
        "id": "pTzYIpTayxdO"
      },
      "execution_count": 11,
      "outputs": []
    }
  ]
}